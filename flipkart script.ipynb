{
 "cells": [
  {
   "cell_type": "code",
   "execution_count": 1,
   "id": "dd789176",
   "metadata": {},
   "outputs": [],
   "source": [
    "import requests\n",
    "from bs4 import BeautifulSoup as bs\n",
    "import pandas as pd\n",
    "\n",
    "link = \"https://www.flipkart.com/watches/pr?sid=r18\"\n",
    "url = requests.get(link)\n",
    "soup = bs(url.text,features='lxml')\n",
    "\n",
    "name=[]\n",
    "price=[]\n",
    "elements = soup.find_all(\"div\",class_=\"_1AtVbE col-12-12\")\n",
    "for element in elements:\n",
    "    if element:\n",
    "        a = element.find(\"div\", class_=\"_13oc-S _1t9ceu\")\n",
    "        if a:\n",
    "            b = a.find(\"div\", class_=\"_1xHGtK _373qXS\")\n",
    "            if b:\n",
    "                c = b.find(\"div\", class_=\"_2B099V\")\n",
    "                if c:\n",
    "                    d = c.find(\"div\", class_=\"_25b18c\")\n",
    "                    if d:\n",
    "                        e = d.find(\"div\", class_=\"_30jeq3\")\n",
    "                        price.append(e.text)\n",
    "        if a:\n",
    "            b = a.find(\"div\", class_=\"_1xHGtK _373qXS\")\n",
    "            if b:\n",
    "                c = b.find(\"div\", class_=\"_2B099V\")\n",
    "                if c:\n",
    "                    d = c.find(\"div\", class_=\"_2WkVRV\")\n",
    "                    name.append(d.text)\n",
    "\n",
    "df = pd.DataFrame({'Product Name':name,'Price':price}) \n",
    "df.to_csv('laptop_details.csv', index=False, encoding='utf-8')\n"
   ]
  },
  {
   "cell_type": "code",
   "execution_count": null,
   "id": "afa2d8d3",
   "metadata": {},
   "outputs": [],
   "source": []
  }
 ],
 "metadata": {
  "kernelspec": {
   "display_name": "Python 3 (ipykernel)",
   "language": "python",
   "name": "python3"
  },
  "language_info": {
   "codemirror_mode": {
    "name": "ipython",
    "version": 3
   },
   "file_extension": ".py",
   "mimetype": "text/x-python",
   "name": "python",
   "nbconvert_exporter": "python",
   "pygments_lexer": "ipython3",
   "version": "3.10.9"
  }
 },
 "nbformat": 4,
 "nbformat_minor": 5
}
